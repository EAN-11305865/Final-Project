{
 "cells": [
  {
   "cell_type": "code",
   "execution_count": 1,
   "id": "83a12d30-9008-44b1-bddf-2da9d6377242",
   "metadata": {},
   "outputs": [],
   "source": [
    "from matplotlib import pyplot as plt\n",
    "import numpy as np\n",
    "import pandas as pd\n",
    "import xarray as xr\n",
    "import seaborn as sns\n",
    "from sklearn.preprocessing import StandardScaler, MinMaxScaler\n",
    "from sklearn.metrics import mean_squared_error, mean_absolute_error, explained_variance_score, r2_score\n",
    "from sklearn.ensemble import RandomForestRegressor\n",
    "from math import sqrt\n",
    "from flaml import AutoML\n",
    "import xgboost as xgb\n",
    "from sklearn.linear_model import LinearRegression\n",
    "from sklearn.pipeline import make_pipeline\n",
    "\n",
    "xr.set_options(display_style='html')\n",
    "%matplotlib inline\n",
    "%config InlineBackend.figure_format = 'retina' "
   ]
  },
  {
   "cell_type": "code",
   "execution_count": 2,
   "id": "8a00a280-411f-4453-a4a0-b19024e20fed",
   "metadata": {},
   "outputs": [
    {
     "name": "stderr",
     "output_type": "stream",
     "text": [
      "C:\\Users\\HP\\anaconda3\\envs\\myenv\\Lib\\site-packages\\ecmwflibs\\__init__.py:81: UserWarning: DLL load failed while importing _ecmwflibs: 找不到指定的程序。\n",
      "  warnings.warn(str(e))\n",
      "C:\\Users\\HP\\anaconda3\\envs\\myenv\\Lib\\site-packages\\xarray\\backends\\plugins.py:80: RuntimeWarning: Engine 'cfgrib' loading failed:\n",
      "Cannot find the ecCodes library\n",
      "  warnings.warn(f\"Engine {name!r} loading failed:\\n{ex}\", RuntimeWarning)\n"
     ]
    }
   ],
   "source": [
    "file_path = 'combined_dataset.nc'\n",
    "combined_dataset = xr.open_dataset(file_path)"
   ]
  },
  {
   "cell_type": "code",
   "execution_count": 3,
   "id": "80ce8d23-9ce1-452e-b804-de10aadada1b",
   "metadata": {},
   "outputs": [],
   "source": [
    "df = combined_dataset.to_dataframe().reset_index()"
   ]
  },
  {
   "cell_type": "code",
   "execution_count": 4,
   "id": "b1dd6ea5-ff38-48ab-b451-a9a8cff9bd9c",
   "metadata": {},
   "outputs": [],
   "source": [
    "clean_df = df.dropna()"
   ]
  },
  {
   "cell_type": "code",
   "execution_count": 5,
   "id": "81d335f7-7423-446f-a152-3160f6fc35d3",
   "metadata": {},
   "outputs": [],
   "source": [
    "df = clean_df"
   ]
  },
  {
   "cell_type": "code",
   "execution_count": 6,
   "id": "e46707ce-a276-43a6-8aa7-cddc24b80182",
   "metadata": {},
   "outputs": [],
   "source": [
    "#deal with time information\n",
    "df['time'] = df['time'].astype(str)\n",
    "df['time'] = pd.to_datetime(df['time'])"
   ]
  },
  {
   "cell_type": "code",
   "execution_count": 7,
   "id": "c972edb5-0b9c-4690-99b7-24acf351c519",
   "metadata": {},
   "outputs": [],
   "source": [
    "#Split time to year, month, day of year\n",
    "df['year'] = df['time'].dt.year\n",
    "df['month'] = df['time'].dt.month\n",
    "df['dayofyear'] = df['time'].dt.dayofyear"
   ]
  },
  {
   "cell_type": "code",
   "execution_count": 8,
   "id": "09518a2e-6202-490d-8141-1c22332f7ed7",
   "metadata": {},
   "outputs": [],
   "source": [
    "df['WindSpeed'] = np.sqrt(df['UBOT']**2 + df['VBOT']**2)"
   ]
  },
  {
   "cell_type": "code",
   "execution_count": 9,
   "id": "80a3725b-c40a-477d-86c2-ce29318fa481",
   "metadata": {},
   "outputs": [],
   "source": [
    "#water_vapor_content\n",
    "P = 101325 \n",
    "R = 287.05\n",
    "df['WaterVapor'] =  (df['QBOT'] * P) / ( R * df['TREFHT'])"
   ]
  },
  {
   "cell_type": "code",
   "execution_count": 10,
   "id": "e4f91ac4-9d40-4b17-a27e-bba6a3eb7d1e",
   "metadata": {},
   "outputs": [],
   "source": [
    "#heat_flux\n",
    "rho = 1.225 \n",
    "Cp = 1005 \n",
    "df['HeatFlux'] = rho * Cp * df['TREFHT'] * df['WindSpeed']"
   ]
  },
  {
   "cell_type": "code",
   "execution_count": null,
   "id": "b81c914f-2324-4dca-9853-f1fd523e9875",
   "metadata": {},
   "outputs": [],
   "source": []
  },
  {
   "cell_type": "code",
   "execution_count": 11,
   "id": "68818f7c-2297-48f2-aed4-b015b262c079",
   "metadata": {},
   "outputs": [],
   "source": [
    "#split train and test\n",
    "train = df[df['year'] < 2040]\n",
    "valid = df[(df['year'] >= 2040) & (df['year'] < 2050)]\n",
    "test = df[df['year'] >= 2050]\n",
    "#test = test[test['time'].dt.year < 2030]"
   ]
  },
  {
   "cell_type": "code",
   "execution_count": 12,
   "id": "e7c4dfe4-5b9b-453a-8f92-064ae0289c57",
   "metadata": {},
   "outputs": [],
   "source": [
    "#train and X_test\n",
    "X_train = train.drop(['TREFMXAV_U','source','time'], axis=1) \n",
    "y_train = train['TREFMXAV_U']\n",
    "X_valid = valid.drop(['TREFMXAV_U','source','time'], axis=1) \n",
    "y_valid = valid['TREFMXAV_U']\n",
    "X_test = test.drop(['TREFMXAV_U','source','time'], axis=1) \n",
    "y_test = test['TREFMXAV_U']"
   ]
  },
  {
   "cell_type": "code",
   "execution_count": null,
   "id": "d60efe2f-f772-446b-9261-306c4f3d59a3",
   "metadata": {},
   "outputs": [],
   "source": []
  },
  {
   "cell_type": "code",
   "execution_count": 13,
   "id": "c93f3635-e6dd-40a8-8a71-057e846f5832",
   "metadata": {},
   "outputs": [],
   "source": [
    "scaler = StandardScaler()\n",
    "pipeline = make_pipeline(scaler, LinearRegression())"
   ]
  },
  {
   "cell_type": "code",
   "execution_count": 14,
   "id": "dd719d56-bcc5-43dd-a075-21b0931fe5c5",
   "metadata": {},
   "outputs": [
    {
     "name": "stdout",
     "output_type": "stream",
     "text": [
      "Linear Regression RMSE: 1.2882475166898701\n"
     ]
    }
   ],
   "source": [
    "pipeline.fit(X_train, y_train)\n",
    "\n",
    "y_pred_lin = pipeline.predict(X_test)\n",
    "\n",
    "rmse_lin = np.sqrt(mean_squared_error(y_test, y_pred_lin))\n",
    "print(\"Linear Regression RMSE:\", rmse_lin)"
   ]
  },
  {
   "cell_type": "code",
   "execution_count": null,
   "id": "11b1908e-4100-48a8-96a7-339f123d9376",
   "metadata": {},
   "outputs": [],
   "source": [
    "xgb_model = xgb.XGBRegressor(objective='reg:squarederror', n_estimators=100, learning_rate=0.1, max_depth=3, random_state=42)\n",
    "xgb_model.fit(X_train, y_train)\n",
    "\n",
    "y_pred_xgb = xgb_model.predict(X_test)\n",
    "\n",
    "rmse_xgb = np.sqrt(mean_squared_error(y_test, y_pred_xgb))\n",
    "print(\"XGBoost RMSE:\", rmse_xgb)"
   ]
  },
  {
   "cell_type": "code",
   "execution_count": null,
   "id": "e3de86a9-b375-4746-807e-de3e6e986be4",
   "metadata": {},
   "outputs": [],
   "source": [
    "print(\"Linear Regression RMSE vs XGBoost RMSE\")\n",
    "print(\"Linear Regression RMSE:\", rmse_lin)\n",
    "print(\"XGBoost RMSE:\", rmse_xgb)"
   ]
  },
  {
   "cell_type": "code",
   "execution_count": null,
   "id": "2d2f3e92-4741-4304-899f-5a43bfd6957d",
   "metadata": {},
   "outputs": [],
   "source": []
  }
 ],
 "metadata": {
  "kernelspec": {
   "display_name": "Python 3 (ipykernel)",
   "language": "python",
   "name": "python3"
  },
  "language_info": {
   "codemirror_mode": {
    "name": "ipython",
    "version": 3
   },
   "file_extension": ".py",
   "mimetype": "text/x-python",
   "name": "python",
   "nbconvert_exporter": "python",
   "pygments_lexer": "ipython3",
   "version": "3.11.8"
  }
 },
 "nbformat": 4,
 "nbformat_minor": 5
}
